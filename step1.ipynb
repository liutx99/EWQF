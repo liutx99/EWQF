{
 "cells": [
  {
   "cell_type": "code",
   "execution_count": 1,
   "id": "89688612",
   "metadata": {
    "ExecuteTime": {
     "end_time": "2023-07-25T04:56:20.167727Z",
     "start_time": "2023-07-25T04:56:18.356899Z"
    }
   },
   "outputs": [],
   "source": [
    "import matplotlib.pyplot as plt\n",
    "from tensorflow import keras\n",
    "import pandas as pd\n",
    "import tensorflow as tf\n",
    "import numpy as np\n",
    "from keras import layers\n",
    "from sklearn.metrics import r2_score,mean_absolute_error,mean_absolute_percentage_error,mean_squared_error,mean_squared_log_error\n",
    "import numpy as np\n",
    "import random\n",
    "import csv\n",
    "import os\n",
    "import math\n",
    "def setup_seed(seed):\n",
    "    random.seed(seed)  \n",
    "    np.random.seed(seed)  \n",
    "    tf.random.set_seed(seed)  \n",
    "    os.environ['TF_DETERMINISTIC_OPS'] = '1'   \n",
    "setup_seed(1)\n",
    "import sys\n",
    "\n",
    "import predict_model"
   ]
  },
  {
   "cell_type": "code",
   "execution_count": 2,
   "id": "ed0e012b",
   "metadata": {
    "ExecuteTime": {
     "end_time": "2023-07-25T04:56:20.324253Z",
     "start_time": "2023-07-25T04:56:20.167727Z"
    }
   },
   "outputs": [
    {
     "data": {
      "text/html": [
       "<div>\n",
       "<style scoped>\n",
       "    .dataframe tbody tr th:only-of-type {\n",
       "        vertical-align: middle;\n",
       "    }\n",
       "\n",
       "    .dataframe tbody tr th {\n",
       "        vertical-align: top;\n",
       "    }\n",
       "\n",
       "    .dataframe thead th {\n",
       "        text-align: right;\n",
       "    }\n",
       "</style>\n",
       "<table border=\"1\" class=\"dataframe\">\n",
       "  <thead>\n",
       "    <tr style=\"text-align: right;\">\n",
       "      <th></th>\n",
       "      <th>0</th>\n",
       "      <th>1</th>\n",
       "      <th>2</th>\n",
       "      <th>3</th>\n",
       "    </tr>\n",
       "  </thead>\n",
       "  <tbody>\n",
       "    <tr>\n",
       "      <th>0</th>\n",
       "      <td>7.101476</td>\n",
       "      <td>1.395643</td>\n",
       "      <td>-1.473923</td>\n",
       "      <td>-0.227829</td>\n",
       "    </tr>\n",
       "    <tr>\n",
       "      <th>1</th>\n",
       "      <td>7.156018</td>\n",
       "      <td>1.330252</td>\n",
       "      <td>0.855979</td>\n",
       "      <td>0.300164</td>\n",
       "    </tr>\n",
       "    <tr>\n",
       "      <th>2</th>\n",
       "      <td>7.122412</td>\n",
       "      <td>1.001320</td>\n",
       "      <td>1.618404</td>\n",
       "      <td>0.180023</td>\n",
       "    </tr>\n",
       "    <tr>\n",
       "      <th>3</th>\n",
       "      <td>7.024514</td>\n",
       "      <td>0.485429</td>\n",
       "      <td>-0.033552</td>\n",
       "      <td>-0.513200</td>\n",
       "    </tr>\n",
       "    <tr>\n",
       "      <th>4</th>\n",
       "      <td>6.995765</td>\n",
       "      <td>0.042648</td>\n",
       "      <td>-1.121137</td>\n",
       "      <td>0.337141</td>\n",
       "    </tr>\n",
       "    <tr>\n",
       "      <th>...</th>\n",
       "      <td>...</td>\n",
       "      <td>...</td>\n",
       "      <td>...</td>\n",
       "      <td>...</td>\n",
       "    </tr>\n",
       "    <tr>\n",
       "      <th>1995</th>\n",
       "      <td>10.740554</td>\n",
       "      <td>-0.135640</td>\n",
       "      <td>0.031916</td>\n",
       "      <td>-0.043048</td>\n",
       "    </tr>\n",
       "    <tr>\n",
       "      <th>1996</th>\n",
       "      <td>10.760336</td>\n",
       "      <td>-0.106343</td>\n",
       "      <td>0.110439</td>\n",
       "      <td>0.157272</td>\n",
       "    </tr>\n",
       "    <tr>\n",
       "      <th>1997</th>\n",
       "      <td>10.756431</td>\n",
       "      <td>-0.104084</td>\n",
       "      <td>0.028631</td>\n",
       "      <td>-0.202168</td>\n",
       "    </tr>\n",
       "    <tr>\n",
       "      <th>1998</th>\n",
       "      <td>10.757496</td>\n",
       "      <td>-0.096814</td>\n",
       "      <td>-0.032394</td>\n",
       "      <td>0.161483</td>\n",
       "    </tr>\n",
       "    <tr>\n",
       "      <th>1999</th>\n",
       "      <td>10.756494</td>\n",
       "      <td>-0.094440</td>\n",
       "      <td>-0.039974</td>\n",
       "      <td>-0.061542</td>\n",
       "    </tr>\n",
       "  </tbody>\n",
       "</table>\n",
       "<p>2000 rows × 4 columns</p>\n",
       "</div>"
      ],
      "text/plain": [
       "              0         1         2         3\n",
       "0      7.101476  1.395643 -1.473923 -0.227829\n",
       "1      7.156018  1.330252  0.855979  0.300164\n",
       "2      7.122412  1.001320  1.618404  0.180023\n",
       "3      7.024514  0.485429 -0.033552 -0.513200\n",
       "4      6.995765  0.042648 -1.121137  0.337141\n",
       "...         ...       ...       ...       ...\n",
       "1995  10.740554 -0.135640  0.031916 -0.043048\n",
       "1996  10.760336 -0.106343  0.110439  0.157272\n",
       "1997  10.756431 -0.104084  0.028631 -0.202168\n",
       "1998  10.757496 -0.096814 -0.032394  0.161483\n",
       "1999  10.756494 -0.094440 -0.039974 -0.061542\n",
       "\n",
       "[2000 rows x 4 columns]"
      ]
     },
     "execution_count": 2,
     "metadata": {},
     "output_type": "execute_result"
    }
   ],
   "source": [
    "#Load data\n",
    "data = pd.read_excel('IVMD-TN.xlsx',header=None)\n",
    "data"
   ]
  },
  {
   "cell_type": "code",
   "execution_count": 3,
   "id": "37fdfa0a",
   "metadata": {
    "ExecuteTime": {
     "end_time": "2023-07-25T04:56:20.334890Z",
     "start_time": "2023-07-25T04:56:20.326358Z"
    }
   },
   "outputs": [],
   "source": [
    "S1 = data.values\n",
    "imfs=S1.swapaxes(1,0)"
   ]
  },
  {
   "cell_type": "code",
   "execution_count": 4,
   "id": "845a7c6f",
   "metadata": {
    "ExecuteTime": {
     "end_time": "2023-07-25T04:56:20.340992Z",
     "start_time": "2023-07-25T04:56:20.334890Z"
    }
   },
   "outputs": [],
   "source": [
    "splita=0.8\n",
    "splitb=0.9\n",
    "slength=30\n",
    "num=10"
   ]
  },
  {
   "cell_type": "code",
   "execution_count": 5,
   "id": "7d90c24a",
   "metadata": {
    "ExecuteTime": {
     "end_time": "2023-07-25T04:56:20.347002Z",
     "start_time": "2023-07-25T04:56:20.340992Z"
    }
   },
   "outputs": [],
   "source": [
    "#Divide the data set\n",
    "def DataP(deliver_data,a,b):\n",
    "    deliver_data = pd.DataFrame(data=deliver_data[0:])\n",
    "    seq_length = slength\n",
    "    delay = 1\n",
    "    data_ = []\n",
    "    for i in range(len(deliver_data) - seq_length - delay):\n",
    "        data_.append(deliver_data.iloc[i:i + seq_length + delay])\n",
    "    data_ = np.array([df.values for df in data_])\n",
    "    split_a = int(data_.shape[0] * a)\n",
    "    split_b = int(data_.shape[0] * b)\n",
    "    \n",
    "    train_data = data_[:split_a]\n",
    "    val_data = data_[split_a:split_b]\n",
    "    test_data=data_[split_b:]\n",
    "\n",
    "    return train_data,val_data,test_data"
   ]
  },
  {
   "cell_type": "code",
   "execution_count": 6,
   "id": "4f52a053",
   "metadata": {
    "ExecuteTime": {
     "end_time": "2023-07-25T04:56:20.376108Z",
     "start_time": "2023-07-25T04:56:20.347002Z"
    }
   },
   "outputs": [],
   "source": [
    "data1=DataP(imfs[1],splita,splitb)\n",
    "size=data1[1].shape[0]\n",
    "\n",
    "df = pd.DataFrame(data=None)\n",
    "df.to_csv('supplier_data.csv',mode='w',index=False,header=False)"
   ]
  },
  {
   "cell_type": "code",
   "execution_count": 7,
   "id": "155115a0",
   "metadata": {
    "ExecuteTime": {
     "end_time": "2023-07-25T04:56:20.393128Z",
     "start_time": "2023-07-25T04:56:20.376108Z"
    }
   },
   "outputs": [],
   "source": [
    "total_outcome_y = pd.DataFrame(data=0, columns=range(0, 1), index=range(0, size))\n",
    "total_test_y = pd.DataFrame(data=0, columns=range(0, 1), index=range(0, size))"
   ]
  },
  {
   "cell_type": "code",
   "execution_count": 8,
   "id": "dd8e1e4d",
   "metadata": {
    "ExecuteTime": {
     "end_time": "2023-07-25T04:57:13.723384Z",
     "start_time": "2023-07-25T04:56:20.394136Z"
    }
   },
   "outputs": [
    {
     "name": "stdout",
     "output_type": "stream",
     "text": [
      "正在进行的迭代分量序号为： 1\n",
      "7/7 [==============================] - 0s 3ms/step\n",
      "50/50 [==============================] - 0s 1ms/step\n",
      "GRU模型的R2:0.014190415118864541\n",
      "{'MAE': [0.3298501502342399], 'RMSE': [0.41172179490317945], 'STD': [0.24640153162824524], 'MAPE': [0.031009181318456227], 'r2': [0.014190415118864541]}\n",
      "正在进行的迭代分量序号为： 2\n",
      "7/7 [==============================] - 0s 2ms/step\n",
      "50/50 [==============================] - 0s 2ms/step\n",
      "GRU模型的R2:0.9790929455973537\n",
      "{'MAE': [0.022618563687999253], 'RMSE': [0.034263264469511466], 'STD': [0.025736586191637937], 'MAPE': [0.7107011644277283], 'r2': [0.9790929455973537]}\n",
      "正在进行的迭代分量序号为： 3\n",
      "7/7 [==============================] - 0s 2ms/step\n",
      "50/50 [==============================] - 0s 2ms/step\n",
      "GRU模型的R2:0.9259745408141724\n",
      "{'MAE': [0.03823205782541686], 'RMSE': [0.05669853322142886], 'STD': [0.04186924197899279], 'MAPE': [0.6450223354696697], 'r2': [0.9259745408141724]}\n",
      "正在进行的迭代分量序号为： 4\n",
      "7/7 [==============================] - 0s 4ms/step\n",
      "50/50 [==============================] - 0s 1ms/step\n",
      "GRU模型的R2:0.944802812034194\n",
      "{'MAE': [0.03430755983421645], 'RMSE': [0.048584219583265746], 'STD': [0.03440083909931037], 'MAPE': [1.0629273349978834], 'r2': [0.944802812034194]}\n",
      "正在进行的迭代分量序号为： 1\n",
      "7/7 [==============================] - 0s 2ms/step\n",
      "50/50 [==============================] - 0s 2ms/step\n",
      "LSTM模型的R2:0.3313890962024858\n",
      "{'MAE': [0.2670583630343395], 'RMSE': [0.3390736697659284], 'STD': [0.20892770104022307], 'MAPE': [0.0250840704667637], 'r2': [0.3313890962024858]}\n",
      "正在进行的迭代分量序号为： 2\n",
      "7/7 [==============================] - 0s 1ms/step\n",
      "50/50 [==============================] - 0s 2ms/step\n",
      "LSTM模型的R2:0.974532598347767\n",
      "{'MAE': [0.026334276272088265], 'RMSE': [0.03781591670237206], 'STD': [0.027139444527588832], 'MAPE': [0.8658422275991211], 'r2': [0.974532598347767]}\n",
      "正在进行的迭代分量序号为： 3\n",
      "7/7 [==============================] - 0s 3ms/step\n",
      "50/50 [==============================] - 0s 2ms/step\n",
      "LSTM模型的R2:0.897530860747273\n",
      "{'MAE': [0.047173776157471876], 'RMSE': [0.0667079835483119], 'STD': [0.04716555853720581], 'MAPE': [0.7681784825623846], 'r2': [0.897530860747273]}\n",
      "正在进行的迭代分量序号为： 4\n",
      "7/7 [==============================] - 0s 3ms/step\n",
      "50/50 [==============================] - 0s 1ms/step\n",
      "LSTM模型的R2:0.9482070134693205\n",
      "{'MAE': [0.032514202526513485], 'RMSE': [0.04706220070640082], 'STD': [0.03402465825536559], 'MAPE': [0.7420554311372708], 'r2': [0.9482070134693205]}\n",
      "正在进行的迭代分量序号为： 1\n",
      "7/7 [==============================] - 0s 3ms/step\n",
      "50/50 [==============================] - 0s 918us/step\n",
      "CNN模型的R2:0.9741583922446926\n",
      "{'MAE': [0.05060766674012169], 'RMSE': [0.0666602755072429], 'STD': [0.04338728382628151], 'MAPE': [0.004862439313567091], 'r2': [0.9741583922446926]}\n",
      "正在进行的迭代分量序号为： 2\n",
      "7/7 [==============================] - 0s 2ms/step\n",
      "50/50 [==============================] - 0s 941us/step\n",
      "CNN模型的R2:0.9563870916549823\n",
      "{'MAE': [0.03755105698786092], 'RMSE': [0.049486853163353405], 'STD': [0.032231455987989786], 'MAPE': [0.9762606365495786], 'r2': [0.9563870916549823]}\n",
      "正在进行的迭代分量序号为： 3\n",
      "7/7 [==============================] - 0s 2ms/step\n",
      "50/50 [==============================] - 0s 856us/step\n",
      "CNN模型的R2:0.9438234771216627\n",
      "{'MAE': [0.03150029188726215], 'RMSE': [0.049392237013350195], 'STD': [0.038043720746008106], 'MAPE': [0.5370764619054418], 'r2': [0.9438234771216627]}\n",
      "正在进行的迭代分量序号为： 4\n",
      "7/7 [==============================] - 0s 1ms/step\n",
      "50/50 [==============================] - 0s 741us/step\n",
      "CNN模型的R2:0.9432149041806234\n",
      "{'MAE': [0.03382125674531557], 'RMSE': [0.049278097889214764], 'STD': [0.03583927348240306], 'MAPE': [1.0433292713184823], 'r2': [0.9432149041806234]}\n",
      "正在进行的迭代分量序号为： 1\n",
      "7/7 [==============================] - 0s 2ms/step\n",
      "50/50 [==============================] - 0s 611us/step\n",
      "BP模型的R2:0.9773858435069341\n",
      "{'MAE': [0.047319196911025596], 'RMSE': [0.062358769352184575], 'STD': [0.04061415663059545], 'MAPE': [0.004528829215638472], 'r2': [0.9773858435069341]}\n",
      "正在进行的迭代分量序号为： 2\n",
      "7/7 [==============================] - 0s 1ms/step\n",
      "50/50 [==============================] - 0s 595us/step\n",
      "BP模型的R2:0.9389811045276824\n",
      "{'MAE': [0.044603199830821234], 'RMSE': [0.058534846637540335], 'STD': [0.037906237425154664], 'MAPE': [1.1796780489030787], 'r2': [0.9389811045276824]}\n",
      "正在进行的迭代分量序号为： 3\n",
      "7/7 [==============================] - 0s 2ms/step\n",
      "50/50 [==============================] - 0s 491us/step\n",
      "BP模型的R2:0.8791825026143932\n",
      "{'MAE': [0.050900261552007116], 'RMSE': [0.0724346200947051], 'STD': [0.051535789139213944], 'MAPE': [1.202454979263948], 'r2': [0.8791825026143932]}\n",
      "正在进行的迭代分量序号为： 4\n",
      "7/7 [==============================] - 0s 3ms/step\n",
      "50/50 [==============================] - 0s 618us/step\n",
      "BP模型的R2:0.920992721444324\n",
      "{'MAE': [0.04044294265226615], 'RMSE': [0.05812598235513909], 'STD': [0.0417492301051822], 'MAPE': [1.082117057774665], 'r2': [0.920992721444324]}\n",
      "正在进行的迭代分量序号为： 1\n",
      "XGB模型的R2:0.9893594375496378\n",
      "{'MAE': [0.03390800592236691], 'RMSE': [0.04277496193049162], 'STD': [0.026075745483566476], 'MAPE': [0.003289351732775197], 'r2': [0.9893594375496378]}\n",
      "正在进行的迭代分量序号为： 2\n",
      "XGB模型的R2:0.9577912634651117\n",
      "{'MAE': [0.03477478456032661], 'RMSE': [0.04868369018247221], 'STD': [0.03407075063108842], 'MAPE': [0.9917640563864145], 'r2': [0.9577912634651117]}\n",
      "正在进行的迭代分量序号为： 3\n",
      "XGB模型的R2:0.8456696352552724\n",
      "{'MAE': [0.05380712344082405], 'RMSE': [0.08186663885649659], 'STD': [0.06170040538508609], 'MAPE': [0.8914656140276004], 'r2': [0.8456696352552724]}\n",
      "正在进行的迭代分量序号为： 4\n",
      "XGB模型的R2:0.897697190061213\n",
      "{'MAE': [0.045588340947816997], 'RMSE': [0.06614248930057479], 'STD': [0.04792214582530963], 'MAPE': [1.5671911349604064], 'r2': [0.897697190061213]}\n",
      "正在进行的迭代分量序号为： 1\n",
      "LSSVR模型的R2:0.9866854173807935\n",
      "{'MAE': [0.038333917221375635], 'RMSE': [0.047848807389260624], 'STD': [0.028635976655935497], 'MAPE': [0.003672843746477677], 'r2': [0.9866854173807935]}\n",
      "正在进行的迭代分量序号为： 2\n",
      "LSSVR模型的R2:0.9400311909050378\n",
      "{'MAE': [0.04039932838816889], 'RMSE': [0.05802899191199945], 'STD': [0.04165643009317756], 'MAPE': [1.1050564692446785], 'r2': [0.9400311909050378]}\n",
      "正在进行的迭代分量序号为： 3\n",
      "LSSVR模型的R2:0.9069279643035272\n",
      "{'MAE': [0.043765048120732224], 'RMSE': [0.06357565970779641], 'STD': [0.04611382732187299], 'MAPE': [0.7314128558739152], 'r2': [0.9069279643035272]}\n",
      "正在进行的迭代分量序号为： 4\n",
      "LSSVR模型的R2:0.9017399576460372\n",
      "{'MAE': [0.043726766783129485], 'RMSE': [0.06482241813934728], 'STD': [0.047853064271018056], 'MAPE': [1.4967600146136266], 'r2': [0.9017399576460372]}\n"
     ]
    }
   ],
   "source": [
    "#Record the evaluation metrics for each model on the validation set of components.\n",
    "for j in range(6):\n",
    "    for i in range(len(imfs)):\n",
    "       # print(\"=======================================================================\")\n",
    "        print(\"正在进行的迭代分量序号为：\", i + 1)\n",
    "        data1=DataP(imfs[i],splita,splitb)\n",
    "        if j==0:\n",
    "            a = predict_model.gru(data1,slength,num)\n",
    "        elif j==1:\n",
    "            a = predict_model.lstm(data1,slength,num)\n",
    "        elif j==2:\n",
    "            a = predict_model.cnn(data1,slength,num)\n",
    "        elif j==3:\n",
    "            a = predict_model.bp(data1,slength,num)\n",
    "        elif j==4:\n",
    "            a = predict_model.xgb(data1,slength,num)\n",
    "        else :\n",
    "            a = predict_model.svr(data1,slength,num)\n",
    "\n",
    "        b=a[0].flatten()\n",
    "        error=abs(a[1]- b)\n",
    "        \n",
    "        MAE=mean_absolute_error(a[1], a[0])\n",
    "        MAPE=mean_absolute_percentage_error(a[1], a[0])\n",
    "        RMSE=mean_squared_error(a[1], a[0],squared=False) \n",
    "        r2=r2_score(a[1], a[0])\n",
    "        STD=np.std(error)\n",
    "        \n",
    "        x={'MAE':[MAE],'RMSE':[RMSE],'STD':[STD],'MAPE':[MAPE],'r2':[r2]}\n",
    "        print(x)\n",
    "        df = pd.DataFrame(x)\n",
    "        \n",
    "        df.to_csv('supplier_data.csv',mode='a',index=False,header=False)\n",
    "\n"
   ]
  },
  {
   "cell_type": "code",
   "execution_count": null,
   "id": "7b45d145",
   "metadata": {},
   "outputs": [],
   "source": []
  }
 ],
 "metadata": {
  "kernelspec": {
   "display_name": "Python 3 (ipykernel)",
   "language": "python",
   "name": "python3"
  },
  "language_info": {
   "codemirror_mode": {
    "name": "ipython",
    "version": 3
   },
   "file_extension": ".py",
   "mimetype": "text/x-python",
   "name": "python",
   "nbconvert_exporter": "python",
   "pygments_lexer": "ipython3",
   "version": "3.8.0"
  }
 },
 "nbformat": 4,
 "nbformat_minor": 5
}
