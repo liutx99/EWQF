{
 "cells": [
  {
   "cell_type": "code",
   "execution_count": 1,
   "id": "89688612",
   "metadata": {
    "ExecuteTime": {
     "end_time": "2023-07-25T05:22:14.555851Z",
     "start_time": "2023-07-25T05:22:12.740615Z"
    }
   },
   "outputs": [],
   "source": [
    "import matplotlib.pyplot as plt\n",
    "from tensorflow import keras\n",
    "import pandas as pd\n",
    "import tensorflow as tf\n",
    "import numpy as np\n",
    "from keras import layers\n",
    "from sklearn.metrics import r2_score,mean_absolute_error,mean_absolute_percentage_error,mean_squared_error,mean_squared_log_error\n",
    "import numpy as np\n",
    "import random\n",
    "import csv\n",
    "import os\n",
    "import math\n",
    "def setup_seed(seed):\n",
    "    random.seed(seed)  \n",
    "    np.random.seed(seed)  \n",
    "    tf.random.set_seed(seed)  \n",
    "    os.environ['TF_DETERMINISTIC_OPS'] = '1'   \n",
    "setup_seed(1)\n",
    "import sys\n",
    "\n",
    "import predict_model"
   ]
  },
  {
   "cell_type": "code",
   "execution_count": 2,
   "id": "ed0e012b",
   "metadata": {
    "ExecuteTime": {
     "end_time": "2023-07-25T05:22:14.703374Z",
     "start_time": "2023-07-25T05:22:14.555851Z"
    }
   },
   "outputs": [],
   "source": [
    "#Load data\n",
    "data = pd.read_excel('IVMD-TN.xlsx',header=None)"
   ]
  },
  {
   "cell_type": "code",
   "execution_count": 3,
   "id": "37fdfa0a",
   "metadata": {
    "ExecuteTime": {
     "end_time": "2023-07-25T05:22:14.708816Z",
     "start_time": "2023-07-25T05:22:14.704412Z"
    }
   },
   "outputs": [],
   "source": [
    "S1 = data.values\n",
    "imfs=S1.swapaxes(1,0)"
   ]
  },
  {
   "cell_type": "code",
   "execution_count": 4,
   "id": "845a7c6f",
   "metadata": {
    "ExecuteTime": {
     "end_time": "2023-07-25T05:22:14.714835Z",
     "start_time": "2023-07-25T05:22:14.708816Z"
    }
   },
   "outputs": [],
   "source": [
    "splita=0.8\n",
    "splitb=0.9\n",
    "slength=30\n",
    "num=10"
   ]
  },
  {
   "cell_type": "code",
   "execution_count": 5,
   "id": "7d90c24a",
   "metadata": {
    "ExecuteTime": {
     "end_time": "2023-07-25T05:22:14.721837Z",
     "start_time": "2023-07-25T05:22:14.714835Z"
    }
   },
   "outputs": [],
   "source": [
    "#Divide the data set\n",
    "def DataP(deliver_data,a,b):\n",
    "    deliver_data = pd.DataFrame(data=deliver_data[0:])\n",
    "    seq_length = slength\n",
    "    delay = 1\n",
    "    data_ = []\n",
    "    for i in range(len(deliver_data) - seq_length - delay):\n",
    "        data_.append(deliver_data.iloc[i:i + seq_length + delay])\n",
    "    data_ = np.array([df.values for df in data_])\n",
    "    split_a = int(data_.shape[0] * a)\n",
    "    split_b = int(data_.shape[0] * b)\n",
    "    \n",
    "    train_data = data_[:split_a]\n",
    "    val_data = data_[split_a:split_b]\n",
    "    test_data=data_[split_b:]\n",
    "\n",
    "    return train_data,val_data,test_data"
   ]
  },
  {
   "cell_type": "code",
   "execution_count": 6,
   "id": "4f52a053",
   "metadata": {
    "ExecuteTime": {
     "end_time": "2023-07-25T05:22:14.751094Z",
     "start_time": "2023-07-25T05:22:14.721837Z"
    }
   },
   "outputs": [],
   "source": [
    "data1=DataP(imfs[1],splita,splitb)\n",
    "size=data1[1].shape[0]\n",
    "\n",
    "df = pd.DataFrame(data=None)\n",
    "df.to_csv('supplier_data.csv',mode='w',index=False,header=False)"
   ]
  },
  {
   "cell_type": "code",
   "execution_count": 7,
   "id": "155115a0",
   "metadata": {
    "ExecuteTime": {
     "end_time": "2023-07-25T05:22:14.757957Z",
     "start_time": "2023-07-25T05:22:14.751094Z"
    }
   },
   "outputs": [],
   "source": [
    "total_outcome_y = pd.DataFrame(data=0, columns=range(0, 1), index=range(0, size))\n",
    "total_test_y = pd.DataFrame(data=0, columns=range(0, 1), index=range(0, size))"
   ]
  },
  {
   "cell_type": "code",
   "execution_count": 8,
   "id": "dd8e1e4d",
   "metadata": {
    "ExecuteTime": {
     "end_time": "2023-07-25T05:23:07.603016Z",
     "start_time": "2023-07-25T05:22:14.757957Z"
    }
   },
   "outputs": [
    {
     "name": "stdout",
     "output_type": "stream",
     "text": [
      "The ongoing iteration component number is： 1\n",
      "7/7 [==============================] - 0s 3ms/step\n",
      "50/50 [==============================] - 0s 1ms/step\n",
      "Evaluation metrics for GRU:\n",
      "{'MAE': [0.3298501502342399], 'RMSE': [0.41172179490317945], 'STD': [0.24640153162824524], 'MAPE': [0.031009181318456227], 'r2': [0.014190415118864541]}\n",
      "The ongoing iteration component number is： 2\n",
      "7/7 [==============================] - 0s 3ms/step\n",
      "50/50 [==============================] - 0s 2ms/step\n",
      "Evaluation metrics for GRU:\n",
      "{'MAE': [0.022618563687999253], 'RMSE': [0.034263264469511466], 'STD': [0.025736586191637937], 'MAPE': [0.7107011644277283], 'r2': [0.9790929455973537]}\n",
      "The ongoing iteration component number is： 3\n",
      "7/7 [==============================] - 0s 2ms/step\n",
      "50/50 [==============================] - 0s 1ms/step\n",
      "Evaluation metrics for GRU:\n",
      "{'MAE': [0.03823205782541686], 'RMSE': [0.05669853322142886], 'STD': [0.04186924197899279], 'MAPE': [0.6450223354696697], 'r2': [0.9259745408141724]}\n",
      "The ongoing iteration component number is： 4\n",
      "7/7 [==============================] - 0s 3ms/step\n",
      "50/50 [==============================] - 0s 2ms/step\n",
      "Evaluation metrics for GRU:\n",
      "{'MAE': [0.03430755983421645], 'RMSE': [0.048584219583265746], 'STD': [0.03440083909931037], 'MAPE': [1.0629273349978834], 'r2': [0.944802812034194]}\n",
      "The ongoing iteration component number is： 1\n",
      "7/7 [==============================] - 0s 1ms/step\n",
      "50/50 [==============================] - 0s 1ms/step\n",
      "Evaluation metrics for LSTM:\n",
      "{'MAE': [0.2670583630343395], 'RMSE': [0.3390736697659284], 'STD': [0.20892770104022307], 'MAPE': [0.0250840704667637], 'r2': [0.3313890962024858]}\n",
      "The ongoing iteration component number is： 2\n",
      "7/7 [==============================] - 0s 4ms/step\n",
      "50/50 [==============================] - 0s 2ms/step\n",
      "Evaluation metrics for LSTM:\n",
      "{'MAE': [0.026334276272088265], 'RMSE': [0.03781591670237206], 'STD': [0.027139444527588832], 'MAPE': [0.8658422275991211], 'r2': [0.974532598347767]}\n",
      "The ongoing iteration component number is： 3\n",
      "7/7 [==============================] - 0s 4ms/step\n",
      "50/50 [==============================] - 0s 2ms/step\n",
      "Evaluation metrics for LSTM:\n",
      "{'MAE': [0.047173776157471876], 'RMSE': [0.0667079835483119], 'STD': [0.04716555853720581], 'MAPE': [0.7681784825623846], 'r2': [0.897530860747273]}\n",
      "The ongoing iteration component number is： 4\n",
      "7/7 [==============================] - 0s 3ms/step\n",
      "50/50 [==============================] - 0s 2ms/step\n",
      "Evaluation metrics for LSTM:\n",
      "{'MAE': [0.032514202526513485], 'RMSE': [0.04706220070640082], 'STD': [0.03402465825536559], 'MAPE': [0.7420554311372708], 'r2': [0.9482070134693205]}\n",
      "The ongoing iteration component number is： 1\n",
      "7/7 [==============================] - 0s 5ms/step\n",
      "50/50 [==============================] - 0s 788us/step\n",
      "Evaluation metrics for CNN:\n",
      "{'MAE': [0.05060766674012169], 'RMSE': [0.0666602755072429], 'STD': [0.04338728382628151], 'MAPE': [0.004862439313567091], 'r2': [0.9741583922446926]}\n",
      "The ongoing iteration component number is： 2\n",
      "7/7 [==============================] - 0s 3ms/step\n",
      "50/50 [==============================] - 0s 493us/step\n",
      "Evaluation metrics for CNN:\n",
      "{'MAE': [0.03755105698786092], 'RMSE': [0.049486853163353405], 'STD': [0.032231455987989786], 'MAPE': [0.9762606365495786], 'r2': [0.9563870916549823]}\n",
      "The ongoing iteration component number is： 3\n",
      "7/7 [==============================] - 0s 2ms/step\n",
      "50/50 [==============================] - 0s 937us/step\n",
      "Evaluation metrics for CNN:\n",
      "{'MAE': [0.03150029188726215], 'RMSE': [0.049392237013350195], 'STD': [0.038043720746008106], 'MAPE': [0.5370764619054418], 'r2': [0.9438234771216627]}\n",
      "The ongoing iteration component number is： 4\n",
      "7/7 [==============================] - 0s 3ms/step\n",
      "50/50 [==============================] - 0s 743us/step\n",
      "Evaluation metrics for CNN:\n",
      "{'MAE': [0.03382125674531557], 'RMSE': [0.049278097889214764], 'STD': [0.03583927348240306], 'MAPE': [1.0433292713184823], 'r2': [0.9432149041806234]}\n",
      "The ongoing iteration component number is： 1\n",
      "7/7 [==============================] - 0s 2ms/step\n",
      "50/50 [==============================] - 0s 618us/step\n",
      "Evaluation metrics for BP:\n",
      "{'MAE': [0.047319196911025596], 'RMSE': [0.062358769352184575], 'STD': [0.04061415663059545], 'MAPE': [0.004528829215638472], 'r2': [0.9773858435069341]}\n",
      "The ongoing iteration component number is： 2\n",
      "7/7 [==============================] - 0s 1ms/step\n",
      "50/50 [==============================] - 0s 616us/step\n",
      "Evaluation metrics for BP:\n",
      "{'MAE': [0.044603199830821234], 'RMSE': [0.058534846637540335], 'STD': [0.037906237425154664], 'MAPE': [1.1796780489030787], 'r2': [0.9389811045276824]}\n",
      "The ongoing iteration component number is： 3\n",
      "7/7 [==============================] - 0s 2ms/step\n",
      "50/50 [==============================] - 0s 597us/step\n",
      "Evaluation metrics for BP:\n",
      "{'MAE': [0.050900261552007116], 'RMSE': [0.0724346200947051], 'STD': [0.051535789139213944], 'MAPE': [1.202454979263948], 'r2': [0.8791825026143932]}\n",
      "The ongoing iteration component number is： 4\n",
      "7/7 [==============================] - 0s 1ms/step\n",
      "50/50 [==============================] - 0s 732us/step\n",
      "Evaluation metrics for BP:\n",
      "{'MAE': [0.04044294265226615], 'RMSE': [0.05812598235513909], 'STD': [0.0417492301051822], 'MAPE': [1.082117057774665], 'r2': [0.920992721444324]}\n",
      "The ongoing iteration component number is： 1\n",
      "Evaluation metrics for XGB\n",
      "{'MAE': [0.03390800592236691], 'RMSE': [0.04277496193049162], 'STD': [0.026075745483566476], 'MAPE': [0.003289351732775197], 'r2': [0.9893594375496378]}\n",
      "The ongoing iteration component number is： 2\n",
      "Evaluation metrics for XGB\n",
      "{'MAE': [0.03477478456032661], 'RMSE': [0.04868369018247221], 'STD': [0.03407075063108842], 'MAPE': [0.9917640563864145], 'r2': [0.9577912634651117]}\n",
      "The ongoing iteration component number is： 3\n",
      "Evaluation metrics for XGB\n",
      "{'MAE': [0.05380712344082405], 'RMSE': [0.08186663885649659], 'STD': [0.06170040538508609], 'MAPE': [0.8914656140276004], 'r2': [0.8456696352552724]}\n",
      "The ongoing iteration component number is： 4\n",
      "Evaluation metrics for XGB\n",
      "{'MAE': [0.045588340947816997], 'RMSE': [0.06614248930057479], 'STD': [0.04792214582530963], 'MAPE': [1.5671911349604064], 'r2': [0.897697190061213]}\n",
      "The ongoing iteration component number is： 1\n",
      "Evaluation metrics for LSSVR:\n",
      "{'MAE': [0.038333917221375635], 'RMSE': [0.047848807389260624], 'STD': [0.028635976655935497], 'MAPE': [0.003672843746477677], 'r2': [0.9866854173807935]}\n",
      "The ongoing iteration component number is： 2\n",
      "Evaluation metrics for LSSVR:\n",
      "{'MAE': [0.04039932838816889], 'RMSE': [0.05802899191199945], 'STD': [0.04165643009317756], 'MAPE': [1.1050564692446785], 'r2': [0.9400311909050378]}\n",
      "The ongoing iteration component number is： 3\n",
      "Evaluation metrics for LSSVR:\n",
      "{'MAE': [0.043765048120732224], 'RMSE': [0.06357565970779641], 'STD': [0.04611382732187299], 'MAPE': [0.7314128558739152], 'r2': [0.9069279643035272]}\n",
      "The ongoing iteration component number is： 4\n",
      "Evaluation metrics for LSSVR:\n",
      "{'MAE': [0.043726766783129485], 'RMSE': [0.06482241813934728], 'STD': [0.047853064271018056], 'MAPE': [1.4967600146136266], 'r2': [0.9017399576460372]}\n"
     ]
    }
   ],
   "source": [
    "#Record the evaluation metrics for each model on the validation set of components.\n",
    "for j in range(6):\n",
    "    for i in range(len(imfs)):\n",
    "       # print(\"=======================================================================\")\n",
    "        print(\"The ongoing iteration component number is：\", i + 1)\n",
    "        data1=DataP(imfs[i],splita,splitb)\n",
    "        if j==0:\n",
    "            a = predict_model.gru(data1,slength,num)\n",
    "        elif j==1:\n",
    "            a = predict_model.lstm(data1,slength,num)\n",
    "        elif j==2:\n",
    "            a = predict_model.cnn(data1,slength,num)\n",
    "        elif j==3:\n",
    "            a = predict_model.bp(data1,slength,num)\n",
    "        elif j==4:\n",
    "            a = predict_model.xgb(data1,slength,num)\n",
    "        else :\n",
    "            a = predict_model.svr(data1,slength,num)\n",
    "\n",
    "        b=a[0].flatten()\n",
    "        error=abs(a[1]- b)\n",
    "        \n",
    "        MAE=mean_absolute_error(a[1], a[0])\n",
    "        MAPE=mean_absolute_percentage_error(a[1], a[0])\n",
    "        RMSE=mean_squared_error(a[1], a[0],squared=False) \n",
    "        r2=r2_score(a[1], a[0])\n",
    "        STD=np.std(error)\n",
    "        \n",
    "        x={'MAE':[MAE],'RMSE':[RMSE],'STD':[STD],'MAPE':[MAPE],'r2':[r2]}\n",
    "        print(x)\n",
    "        df = pd.DataFrame(x)\n",
    "        \n",
    "        df.to_csv('supplier_data.csv',mode='a',index=False,header=False)\n",
    "\n"
   ]
  }
 ],
 "metadata": {
  "kernelspec": {
   "display_name": "Python 3 (ipykernel)",
   "language": "python",
   "name": "python3"
  },
  "language_info": {
   "codemirror_mode": {
    "name": "ipython",
    "version": 3
   },
   "file_extension": ".py",
   "mimetype": "text/x-python",
   "name": "python",
   "nbconvert_exporter": "python",
   "pygments_lexer": "ipython3",
   "version": "3.8.0"
  }
 },
 "nbformat": 4,
 "nbformat_minor": 5
}
