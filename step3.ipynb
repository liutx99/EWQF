{
 "cells": [
  {
   "cell_type": "code",
   "execution_count": 1,
   "id": "09b76721",
   "metadata": {
    "ExecuteTime": {
     "end_time": "2023-07-25T05:23:33.630025Z",
     "start_time": "2023-07-25T05:23:31.517555Z"
    }
   },
   "outputs": [],
   "source": [
    "import matplotlib.pyplot as plt\n",
    "from tensorflow import keras\n",
    "import pandas as pd\n",
    "import tensorflow as tf\n",
    "import numpy as np\n",
    "from keras import layers\n",
    "from sklearn.metrics import r2_score,mean_absolute_error,mean_absolute_percentage_error,mean_squared_error,mean_squared_log_error\n",
    "import numpy as np\n",
    "import random\n",
    "import csv\n",
    "import os\n",
    " \n",
    "def setup_seed(seed):\n",
    "    random.seed(seed)  \n",
    "    np.random.seed(seed)  \n",
    "    tf.random.set_seed(seed) \n",
    "    os.environ['TF_DETERMINISTIC_OPS'] = '1'\n",
    "    \n",
    "setup_seed(1)\n",
    "import sys\n",
    "\n",
    "import predict_model"
   ]
  },
  {
   "cell_type": "code",
   "execution_count": 2,
   "id": "f2d6c39e",
   "metadata": {
    "ExecuteTime": {
     "end_time": "2023-07-25T05:23:33.782706Z",
     "start_time": "2023-07-25T05:23:33.630025Z"
    }
   },
   "outputs": [
    {
     "data": {
      "text/plain": [
       "(4, 2000)"
      ]
     },
     "execution_count": 2,
     "metadata": {},
     "output_type": "execute_result"
    }
   ],
   "source": [
    "# Load data\n",
    "data = pd.read_excel('IVMD-TN.xlsx',header=None)\n",
    "S1 = data.values\n",
    "imfs=S1.swapaxes(1,0)\n",
    "\n",
    "imfs.shape"
   ]
  },
  {
   "cell_type": "code",
   "execution_count": 3,
   "id": "b200edf1",
   "metadata": {
    "ExecuteTime": {
     "end_time": "2023-07-25T05:23:33.788209Z",
     "start_time": "2023-07-25T05:23:33.783708Z"
    }
   },
   "outputs": [],
   "source": [
    "splita=0.8\n",
    "splitb=0.9\n",
    "slength=30\n",
    "num=10"
   ]
  },
  {
   "cell_type": "code",
   "execution_count": 4,
   "id": "4895fbfa",
   "metadata": {
    "ExecuteTime": {
     "end_time": "2023-07-25T05:23:33.799251Z",
     "start_time": "2023-07-25T05:23:33.790093Z"
    }
   },
   "outputs": [],
   "source": [
    "# Divide the data set. Different method of division from step1.\n",
    "def DataP(deliver_data,a,b):\n",
    "    deliver_data = pd.DataFrame(data=deliver_data[0:])\n",
    "    seq_length = slength\n",
    "    delay = 1\n",
    "    data_ = []\n",
    "    for i in range(len(deliver_data) - seq_length - delay):\n",
    "        data_.append(deliver_data.iloc[i:i + seq_length + delay])\n",
    "    data_ = np.array([df.values for df in data_])\n",
    "    split_a = int(data_.shape[0] * a)\n",
    "    split_b = int(data_.shape[0] * b)\n",
    "    \n",
    "    train_data = data_[:split_a]\n",
    "    val_data = data_[split_a:split_b]\n",
    "    test_data=data_[split_b:]\n",
    "    \n",
    "\n",
    "    return train_data,test_data,val_data"
   ]
  },
  {
   "cell_type": "code",
   "execution_count": 5,
   "id": "675c74f5",
   "metadata": {
    "ExecuteTime": {
     "end_time": "2023-07-25T05:23:33.828052Z",
     "start_time": "2023-07-25T05:23:33.799251Z"
    }
   },
   "outputs": [],
   "source": [
    "data1=DataP(imfs[1],splita,splitb)\n",
    "size=data1[1].shape[0]\n",
    "size1=data1[0].shape[0]\n",
    "x={'r2':[111]}\n",
    "\n",
    "df = pd.DataFrame(data=None)\n",
    "df.to_csv('imfresult1.csv',mode='w',index=False,header=False)"
   ]
  },
  {
   "cell_type": "code",
   "execution_count": 6,
   "id": "885387fe",
   "metadata": {
    "ExecuteTime": {
     "end_time": "2023-07-25T05:23:33.835595Z",
     "start_time": "2023-07-25T05:23:33.828052Z"
    }
   },
   "outputs": [],
   "source": [
    "total_outcome_y = pd.DataFrame(data=0, columns=range(0, 1), index=range(0, size))\n",
    "total_test_y = pd.DataFrame(data=0, columns=range(0, 1), index=range(0, size))\n",
    "total_val_yp = pd.DataFrame(data=0, columns=range(0, 1), index=range(0, size1))"
   ]
  },
  {
   "cell_type": "code",
   "execution_count": 7,
   "id": "8c041d18",
   "metadata": {
    "ExecuteTime": {
     "end_time": "2023-07-25T05:23:49.288978Z",
     "start_time": "2023-07-25T05:23:33.835595Z"
    }
   },
   "outputs": [
    {
     "name": "stdout",
     "output_type": "stream",
     "text": [
      "Evaluation metrics for XGB\n",
      "{'MAE': [0.03216168882093036], 'RMSE': [0.0400192326395836], 'STD': [0.023815221041316347], 'MAPE': [0.00319913785721042], 'r2': [0.9950613817362289]}\n",
      "7/7 [==============================] - 0s 2ms/step\n",
      "50/50 [==============================] - 0s 1ms/step\n",
      "Evaluation metrics for GRU:\n",
      "{'MAE': [0.028789106509018177], 'RMSE': [0.04016379130826283], 'STD': [0.02800566868807271], 'MAPE': [0.4708729288264674], 'r2': [0.9818353954248583]}\n",
      "7/7 [==============================] - 0s 5ms/step\n",
      "50/50 [==============================] - 0s 938us/step\n",
      "Evaluation metrics for CNN:\n",
      "{'MAE': [0.035244603775318364], 'RMSE': [0.05068555495294332], 'STD': [0.0364258614943923], 'MAPE': [1.038639637785631], 'r2': [0.9337363545144873]}\n",
      "7/7 [==============================] - 0s 3ms/step\n",
      "50/50 [==============================] - 0s 2ms/step\n",
      "Evaluation metrics for LSTM:\n",
      "{'MAE': [0.031269241337774104], 'RMSE': [0.04361476127771951], 'STD': [0.03040529472760461], 'MAPE': [1.022285075173886], 'r2': [0.9405116130625502]}\n"
     ]
    }
   ],
   "source": [
    "list=[]\n",
    "for i in range(len(imfs)):\n",
    "    data1=DataP(imfs[i],splita,splitb)\n",
    "\n",
    "    best=[4,0,2,1]\n",
    "\n",
    "    if best[i]==0:\n",
    "        a = predict_model.gru(data1,slength,num)\n",
    "    elif best[i]==1:\n",
    "        a = predict_model.lstm(data1,slength,num)\n",
    "    elif best[i]==2:\n",
    "        a = predict_model.cnn(data1,slength,num)\n",
    "    elif best[i]==3:\n",
    "        a = predict_model.bp(data1,slength,num)\n",
    "    elif best[i]==4:\n",
    "        a = predict_model.xgb(data1,slength,num)\n",
    "    else :\n",
    "        a = predict_model.svr(data1,slength,num)\n",
    "    \n",
    "    \n",
    "    MAE=mean_absolute_error(a[1], a[0])\n",
    "    MAPE=mean_absolute_percentage_error(a[1], a[0])\n",
    "    RMSE=mean_squared_error(a[1], a[0],squared=False) \n",
    "    MSE=mean_squared_error(a[1], a[0],squared=True)\n",
    "    r2=r2_score(a[1], a[0])\n",
    "    b=a[0].flatten()\n",
    "    error=abs(a[1]- b)\n",
    "    STD=np.std(error)\n",
    "   \n",
    "    x={'MAE':[MAE],'RMSE':[RMSE],'STD':[STD],'MAPE':[MAPE],'r2':[r2]}\n",
    "    print(x)\n",
    "   \n",
    "    q=a[1].flatten()\n",
    "    w=a[0].flatten()\n",
    "    list.append(q)\n",
    "    list.append(w)\n",
    "    \n",
    "    a0 = pd.DataFrame(data=a[0], columns=total_outcome_y.columns, index=total_outcome_y.index)\n",
    "    a1 = pd.DataFrame(data=a[1], columns=total_test_y.columns, index=total_test_y.index)\n",
    "    a2 = pd.DataFrame(data=a[2], columns=total_val_yp.columns, index=total_val_yp.index)\n",
    "    \n",
    "   \n",
    "    \n",
    "    \n",
    "    total_outcome_y = total_outcome_y + a0\n",
    "    total_test_y = total_test_y + a1\n",
    "    total_val_yp=total_val_yp+a2\n",
    "    "
   ]
  },
  {
   "cell_type": "code",
   "execution_count": 8,
   "id": "4bc5ce22",
   "metadata": {
    "ExecuteTime": {
     "end_time": "2023-07-25T05:23:49.350233Z",
     "start_time": "2023-07-25T05:23:49.288978Z"
    }
   },
   "outputs": [
    {
     "name": "stdout",
     "output_type": "stream",
     "text": [
      "{'MAE': [0.11593142521432909], 'RMSE': [0.17314314142833503], 'STD': [0.1286019131717987], 'MAPE': [0.01131137556701886], 'r2': [0.955306633722435]}\n"
     ]
    }
   ],
   "source": [
    "# Evaluate the final forecast results.\n",
    "data=pd.read_excel('TN.xlsx',header=None)\n",
    "\n",
    "data2=DataP(data,0.8,0.9)\n",
    "test_data=data2[1]\n",
    "test_x = test_data[:, :30, -1]\n",
    "test_y = test_data[:, -1, -1]\n",
    "total_outcome_y2=total_outcome_y.values\n",
    "\n",
    "total_outcome_y3=total_outcome_y2.reshape(len(test_y),)\n",
    "total_outcome_y4=total_outcome_y3.flatten()\n",
    "test_y1=test_y.flatten()\n",
    "error=test_y-total_outcome_y4\n",
    "error1=abs(error)\n",
    "\n",
    "MAE=mean_absolute_error(test_y, total_outcome_y)\n",
    "MAPE=mean_absolute_percentage_error(test_y, total_outcome_y)\n",
    "RMSE=mean_squared_error(test_y, total_outcome_y,squared=False) \n",
    "MSE=mean_squared_error(test_y, total_outcome_y,squared=True)\n",
    "STD=np.std(error1)\n",
    "\n",
    "r2=r2_score(test_y, total_outcome_y)\n",
    "x={'MAE':[MAE],'RMSE':[RMSE],'STD':[STD],'MAPE':[MAPE],'r2':[r2]}\n",
    "\n",
    "print(x)"
   ]
  },
  {
   "cell_type": "code",
   "execution_count": null,
   "id": "3dde5cdf",
   "metadata": {},
   "outputs": [],
   "source": []
  }
 ],
 "metadata": {
  "kernelspec": {
   "display_name": "Python 3 (ipykernel)",
   "language": "python",
   "name": "python3"
  },
  "language_info": {
   "codemirror_mode": {
    "name": "ipython",
    "version": 3
   },
   "file_extension": ".py",
   "mimetype": "text/x-python",
   "name": "python",
   "nbconvert_exporter": "python",
   "pygments_lexer": "ipython3",
   "version": "3.8.0"
  }
 },
 "nbformat": 4,
 "nbformat_minor": 5
}
