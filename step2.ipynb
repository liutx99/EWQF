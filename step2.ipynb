{
 "cells": [
  {
   "cell_type": "code",
   "execution_count": 1,
   "id": "8a797355",
   "metadata": {
    "ExecuteTime": {
     "end_time": "2023-07-25T05:23:16.194742Z",
     "start_time": "2023-07-25T05:23:15.743140Z"
    }
   },
   "outputs": [],
   "source": [
    "import pandas as pd\n",
    "from sklearn.preprocessing import MinMaxScaler\n",
    "import numpy as np"
   ]
  },
  {
   "cell_type": "code",
   "execution_count": 2,
   "id": "af8c03b1",
   "metadata": {
    "ExecuteTime": {
     "end_time": "2023-07-25T05:23:16.215808Z",
     "start_time": "2023-07-25T05:23:16.194742Z"
    }
   },
   "outputs": [
    {
     "data": {
      "text/html": [
       "<div>\n",
       "<style scoped>\n",
       "    .dataframe tbody tr th:only-of-type {\n",
       "        vertical-align: middle;\n",
       "    }\n",
       "\n",
       "    .dataframe tbody tr th {\n",
       "        vertical-align: top;\n",
       "    }\n",
       "\n",
       "    .dataframe thead th {\n",
       "        text-align: right;\n",
       "    }\n",
       "</style>\n",
       "<table border=\"1\" class=\"dataframe\">\n",
       "  <thead>\n",
       "    <tr style=\"text-align: right;\">\n",
       "      <th></th>\n",
       "      <th>0</th>\n",
       "      <th>1</th>\n",
       "      <th>2</th>\n",
       "      <th>3</th>\n",
       "      <th>4</th>\n",
       "    </tr>\n",
       "  </thead>\n",
       "  <tbody>\n",
       "    <tr>\n",
       "      <th>0</th>\n",
       "      <td>0.329850</td>\n",
       "      <td>0.411722</td>\n",
       "      <td>0.246402</td>\n",
       "      <td>0.031009</td>\n",
       "      <td>0.014190</td>\n",
       "    </tr>\n",
       "    <tr>\n",
       "      <th>1</th>\n",
       "      <td>0.022619</td>\n",
       "      <td>0.034263</td>\n",
       "      <td>0.025737</td>\n",
       "      <td>0.710701</td>\n",
       "      <td>0.979093</td>\n",
       "    </tr>\n",
       "    <tr>\n",
       "      <th>2</th>\n",
       "      <td>0.038232</td>\n",
       "      <td>0.056699</td>\n",
       "      <td>0.041869</td>\n",
       "      <td>0.645022</td>\n",
       "      <td>0.925975</td>\n",
       "    </tr>\n",
       "    <tr>\n",
       "      <th>3</th>\n",
       "      <td>0.034308</td>\n",
       "      <td>0.048584</td>\n",
       "      <td>0.034401</td>\n",
       "      <td>1.062927</td>\n",
       "      <td>0.944803</td>\n",
       "    </tr>\n",
       "    <tr>\n",
       "      <th>4</th>\n",
       "      <td>0.267058</td>\n",
       "      <td>0.339074</td>\n",
       "      <td>0.208928</td>\n",
       "      <td>0.025084</td>\n",
       "      <td>0.331389</td>\n",
       "    </tr>\n",
       "  </tbody>\n",
       "</table>\n",
       "</div>"
      ],
      "text/plain": [
       "          0         1         2         3         4\n",
       "0  0.329850  0.411722  0.246402  0.031009  0.014190\n",
       "1  0.022619  0.034263  0.025737  0.710701  0.979093\n",
       "2  0.038232  0.056699  0.041869  0.645022  0.925975\n",
       "3  0.034308  0.048584  0.034401  1.062927  0.944803\n",
       "4  0.267058  0.339074  0.208928  0.025084  0.331389"
      ]
     },
     "execution_count": 2,
     "metadata": {},
     "output_type": "execute_result"
    }
   ],
   "source": [
    "data = pd.DataFrame(pd.read_csv('supplier_data.csv',header=None))\n",
    "data.head()"
   ]
  },
  {
   "cell_type": "code",
   "execution_count": 3,
   "id": "793c613c",
   "metadata": {
    "ExecuteTime": {
     "end_time": "2023-07-25T05:23:16.240222Z",
     "start_time": "2023-07-25T05:23:16.216808Z"
    }
   },
   "outputs": [
    {
     "name": "stdout",
     "output_type": "stream",
     "text": [
      "           0         1         2         3         4\n",
      "0   0.329850  0.411722  0.246402  0.031009  0.014190\n",
      "4   0.267058  0.339074  0.208928  0.025084  0.331389\n",
      "8   0.050608  0.066660  0.043387  0.004862  0.974158\n",
      "12  0.047319  0.062359  0.040614  0.004529  0.977386\n",
      "16  0.033908  0.042775  0.026076  0.003289  0.989359\n",
      "20  0.038334  0.047849  0.028636  0.003673  0.986685\n",
      "IMF1 CEI\n",
      "[1.0, 0.8017709314088006, 0.06412249363247002, 0.05227441846681193, 0.0, 0.013540586579454464]\n",
      "           0         1         2         3         4\n",
      "1   0.022619  0.034263  0.025737  0.710701  0.979093\n",
      "5   0.026334  0.037816  0.027139  0.865842  0.974533\n",
      "9   0.037551  0.049487  0.032231  0.976261  0.956387\n",
      "13  0.044603  0.058535  0.037906  1.179678  0.938981\n",
      "17  0.034775  0.048684  0.034071  0.991764  0.957791\n",
      "21  0.040399  0.058029  0.041656  1.105056  0.940031\n",
      "IMF2 CEI\n",
      "[0.0, 0.18357812595922302, 0.5701671695961759, 0.9411082060349187, 0.567472072947599, 0.9072060668496829]\n",
      "           0         1         2         3         4\n",
      "2   0.038232  0.056699  0.041869  0.645022  0.925975\n",
      "6   0.047174  0.066708  0.047166  0.768178  0.897531\n",
      "10  0.031500  0.049392  0.038044  0.537076  0.943823\n",
      "14  0.050900  0.072435  0.051536  1.202455  0.879183\n",
      "18  0.053807  0.081867  0.061700  0.891466  0.845670\n",
      "22  0.043765  0.063576  0.046114  0.731413  0.906928\n",
      "IMF3 CEI\n",
      "[0.21267725265847334, 0.4921900737617178, 0.0, 0.787392647707325, 0.8831532138763106, 0.4049452195687984]\n",
      "           0         1         2         3         4\n",
      "3   0.034308  0.048584  0.034401  1.062927  0.944803\n",
      "7   0.032514  0.047062  0.034025  0.742055  0.948207\n",
      "11  0.033821  0.049278  0.035839  1.043329  0.943215\n",
      "15  0.040443  0.058126  0.041749  1.082117  0.920993\n",
      "19  0.045588  0.066142  0.047922  1.567191  0.897697\n",
      "23  0.043727  0.064822  0.047853  1.496760  0.901740\n",
      "IMF4 CEI\n",
      "[0.1582193526713576, 0.0, 0.17794992965588594, 0.5385629347431352, 1.0, 0.9245252815251549]\n"
     ]
    }
   ],
   "source": [
    "df = pd.DataFrame(data=None)\n",
    "df.to_csv('data1.csv',mode='w',index=False,header=False)\n",
    "x=len(data[1])/6\n",
    "\n",
    "#Calculate the CEI value of the model\n",
    "for i in range(int(x)):\n",
    "    select=[i,i+x*1,i+x*2,i+x*3,i+x*4,i+x*5]\n",
    "    imf=data.iloc[select,:]\n",
    "    print(imf)\n",
    "    scaler = MinMaxScaler()\n",
    "    scaler.fit(imf)\n",
    "    imf1=scaler.transform(imf)\n",
    "    \n",
    "    list = []\n",
    "    for j in range(6):\n",
    "        ce=(imf1[j,0]+imf1[j,1]+imf1[j,2]+imf1[j,3])/4\n",
    "        list.append(ce)\n",
    "  \n",
    "    a=['imf1','imf2','imf3','imf4','imf5','f','g','h','i','k','l']\n",
    "    if i<1:\n",
    "        df=pd.DataFrame(list)\n",
    "    else:\n",
    "        npdata=np.array(list)\n",
    "        df.insert(df.shape[1],column=a[i],  value=npdata)\n",
    "    print('IMF'+str(i+1)+' CEI')\n",
    "    print(list)\n",
    "    \n",
    "\n",
    "df.to_csv('CEI.csv',mode='a',index=False,header=True)"
   ]
  },
  {
   "cell_type": "code",
   "execution_count": null,
   "id": "1998b92a",
   "metadata": {},
   "outputs": [],
   "source": []
  }
 ],
 "metadata": {
  "kernelspec": {
   "display_name": "Python 3 (ipykernel)",
   "language": "python",
   "name": "python3"
  },
  "language_info": {
   "codemirror_mode": {
    "name": "ipython",
    "version": 3
   },
   "file_extension": ".py",
   "mimetype": "text/x-python",
   "name": "python",
   "nbconvert_exporter": "python",
   "pygments_lexer": "ipython3",
   "version": "3.8.0"
  }
 },
 "nbformat": 4,
 "nbformat_minor": 5
}
